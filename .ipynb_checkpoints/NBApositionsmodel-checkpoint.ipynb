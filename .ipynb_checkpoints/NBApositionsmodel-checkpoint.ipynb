{
 "cells": [
  {
   "cell_type": "code",
   "execution_count": 1,
   "id": "d0a81ada-6548-47ff-b835-b7e1cc7e5108",
   "metadata": {},
   "outputs": [],
   "source": [
    "import pandas as pd\n",
    "import numpy as np\n",
    "import matplotlib.pyplot as plt\n",
    "%matplotlib inline\n",
    "import seaborn as sns\n",
    "\n",
    "import warnings\n",
    "warnings.filterwarnings('ignore')"
   ]
  },
  {
   "cell_type": "code",
   "execution_count": 12,
   "id": "62d6a709-b8f5-4cff-b762-5d7d0c7ab424",
   "metadata": {},
   "outputs": [
    {
     "data": {
      "text/html": [
       "<div>\n",
       "<style scoped>\n",
       "    .dataframe tbody tr th:only-of-type {\n",
       "        vertical-align: middle;\n",
       "    }\n",
       "\n",
       "    .dataframe tbody tr th {\n",
       "        vertical-align: top;\n",
       "    }\n",
       "\n",
       "    .dataframe thead th {\n",
       "        text-align: right;\n",
       "    }\n",
       "</style>\n",
       "<table border=\"1\" class=\"dataframe\">\n",
       "  <thead>\n",
       "    <tr style=\"text-align: right;\">\n",
       "      <th></th>\n",
       "      <th>MP</th>\n",
       "      <th>3PAr</th>\n",
       "      <th>TOV%</th>\n",
       "      <th>USG%</th>\n",
       "      <th>DBPM</th>\n",
       "      <th>BPM</th>\n",
       "      <th>Pos</th>\n",
       "      <th>3PA</th>\n",
       "      <th>2P%</th>\n",
       "      <th>FT%</th>\n",
       "      <th>TRB</th>\n",
       "      <th>AST</th>\n",
       "      <th>STL</th>\n",
       "      <th>BLK</th>\n",
       "      <th>TOV</th>\n",
       "      <th>PF</th>\n",
       "      <th>PTS</th>\n",
       "    </tr>\n",
       "  </thead>\n",
       "  <tbody>\n",
       "    <tr>\n",
       "      <th>0</th>\n",
       "      <td>1578</td>\n",
       "      <td>0.036</td>\n",
       "      <td>12.7</td>\n",
       "      <td>22.5</td>\n",
       "      <td>-0.1</td>\n",
       "      <td>-1.2</td>\n",
       "      <td>SG</td>\n",
       "      <td>0.4</td>\n",
       "      <td>0.435</td>\n",
       "      <td>0.756</td>\n",
       "      <td>4.8</td>\n",
       "      <td>1.6</td>\n",
       "      <td>1.0</td>\n",
       "      <td>0.5</td>\n",
       "      <td>1.7</td>\n",
       "      <td>2.4</td>\n",
       "      <td>11.4</td>\n",
       "    </tr>\n",
       "    <tr>\n",
       "      <th>1</th>\n",
       "      <td>3223</td>\n",
       "      <td>0.075</td>\n",
       "      <td>14.1</td>\n",
       "      <td>25.0</td>\n",
       "      <td>-0.4</td>\n",
       "      <td>2.2</td>\n",
       "      <td>SF</td>\n",
       "      <td>1.2</td>\n",
       "      <td>0.478</td>\n",
       "      <td>0.809</td>\n",
       "      <td>10.1</td>\n",
       "      <td>3.3</td>\n",
       "      <td>1.1</td>\n",
       "      <td>1.1</td>\n",
       "      <td>3.0</td>\n",
       "      <td>3.0</td>\n",
       "      <td>20.3</td>\n",
       "    </tr>\n",
       "    <tr>\n",
       "      <th>2</th>\n",
       "      <td>329</td>\n",
       "      <td>0.357</td>\n",
       "      <td>20.6</td>\n",
       "      <td>18.0</td>\n",
       "      <td>1.8</td>\n",
       "      <td>-2.4</td>\n",
       "      <td>PG</td>\n",
       "      <td>1.2</td>\n",
       "      <td>0.302</td>\n",
       "      <td>0.773</td>\n",
       "      <td>1.4</td>\n",
       "      <td>2.0</td>\n",
       "      <td>0.8</td>\n",
       "      <td>0.1</td>\n",
       "      <td>1.0</td>\n",
       "      <td>1.3</td>\n",
       "      <td>2.8</td>\n",
       "    </tr>\n",
       "    <tr>\n",
       "      <th>3</th>\n",
       "      <td>3070</td>\n",
       "      <td>0.288</td>\n",
       "      <td>10.3</td>\n",
       "      <td>25.6</td>\n",
       "      <td>-1.1</td>\n",
       "      <td>3.6</td>\n",
       "      <td>SG</td>\n",
       "      <td>5.0</td>\n",
       "      <td>0.468</td>\n",
       "      <td>0.887</td>\n",
       "      <td>4.4</td>\n",
       "      <td>3.8</td>\n",
       "      <td>1.3</td>\n",
       "      <td>0.2</td>\n",
       "      <td>2.2</td>\n",
       "      <td>2.3</td>\n",
       "      <td>22.1</td>\n",
       "    </tr>\n",
       "    <tr>\n",
       "      <th>4</th>\n",
       "      <td>361</td>\n",
       "      <td>0.147</td>\n",
       "      <td>23.1</td>\n",
       "      <td>15.5</td>\n",
       "      <td>-2.3</td>\n",
       "      <td>-7.3</td>\n",
       "      <td>PG</td>\n",
       "      <td>0.5</td>\n",
       "      <td>0.296</td>\n",
       "      <td>0.750</td>\n",
       "      <td>0.9</td>\n",
       "      <td>2.6</td>\n",
       "      <td>0.4</td>\n",
       "      <td>0.0</td>\n",
       "      <td>1.1</td>\n",
       "      <td>1.1</td>\n",
       "      <td>2.2</td>\n",
       "    </tr>\n",
       "  </tbody>\n",
       "</table>\n",
       "</div>"
      ],
      "text/plain": [
       "     MP   3PAr  TOV%  USG%  DBPM  BPM Pos  3PA    2P%    FT%   TRB  AST  STL  \\\n",
       "0  1578  0.036  12.7  22.5  -0.1 -1.2  SG  0.4  0.435  0.756   4.8  1.6  1.0   \n",
       "1  3223  0.075  14.1  25.0  -0.4  2.2  SF  1.2  0.478  0.809  10.1  3.3  1.1   \n",
       "2   329  0.357  20.6  18.0   1.8 -2.4  PG  1.2  0.302  0.773   1.4  2.0  0.8   \n",
       "3  3070  0.288  10.3  25.6  -1.1  3.6  SG  5.0  0.468  0.887   4.4  3.8  1.3   \n",
       "4   361  0.147  23.1  15.5  -2.3 -7.3  PG  0.5  0.296  0.750   0.9  2.6  0.4   \n",
       "\n",
       "   BLK  TOV   PF   PTS  \n",
       "0  0.5  1.7  2.4  11.4  \n",
       "1  1.1  3.0  3.0  20.3  \n",
       "2  0.1  1.0  1.3   2.8  \n",
       "3  0.2  2.2  2.3  22.1  \n",
       "4  0.0  1.1  1.1   2.2  "
      ]
     },
     "execution_count": 12,
     "metadata": {},
     "output_type": "execute_result"
    }
   ],
   "source": [
    "#import my created dataframe of player stats from the 2000, 2001, 2002 NBA seasons\n",
    "df = pd.read_csv('data/dataframe_2000s.csv')\n",
    "df = df.drop('Player', axis=1)\n",
    "df.head()"
   ]
  },
  {
   "cell_type": "code",
   "execution_count": 13,
   "id": "f95831d9-c543-4802-bd40-cd8e52074e50",
   "metadata": {},
   "outputs": [],
   "source": [
    "#Baseline Model - Decision Tree Classifier Model\n",
    "#importing train_test_split\n",
    "from sklearn.model_selection import train_test_split\n",
    "\n",
    "#splitting data into training and testing sets \n",
    "y = df['Pos']\n",
    "X = df.drop('Pos', axis=1)\n",
    "\n",
    "X_train, X_test, y_train, y_test = train_test_split(X, y, test_size=0.2, random_state=123)"
   ]
  },
  {
   "cell_type": "code",
   "execution_count": 14,
   "id": "4baa2bd6-07f9-46e7-93da-3f26ef67e9ee",
   "metadata": {},
   "outputs": [
    {
     "data": {
      "text/plain": [
       "DecisionTreeClassifier()"
      ]
     },
     "execution_count": 14,
     "metadata": {},
     "output_type": "execute_result"
    }
   ],
   "source": [
    "from sklearn.tree import DecisionTreeClassifier\n",
    "DTC = DecisionTreeClassifier()\n",
    "DTC.fit(X_train, y_train)"
   ]
  },
  {
   "cell_type": "code",
   "execution_count": 20,
   "id": "e527afa8-433a-423e-9b16-ee5a60a8e519",
   "metadata": {},
   "outputs": [
    {
     "name": "stdout",
     "output_type": "stream",
     "text": [
      "Train Accuracy Score:  1.0\n"
     ]
    }
   ],
   "source": [
    "#Training sets from the training set\n",
    "y_pred_train = DTC.predict(X_train)\n",
    "\n",
    "from sklearn.metrics import accuracy_score, roc_curve, auc\n",
    "print('Train Accuracy Score: ', accuracy_score(y_train, y_pred_train))#FIX THIS ALL"
   ]
  },
  {
   "cell_type": "code",
   "execution_count": null,
   "id": "d0144f1d-d7ad-45af-9e52-0ab279958a14",
   "metadata": {},
   "outputs": [],
   "source": []
  },
  {
   "cell_type": "code",
   "execution_count": null,
   "id": "b29db783-8c9e-4fc3-8084-35a24404f45a",
   "metadata": {},
   "outputs": [],
   "source": []
  },
  {
   "cell_type": "code",
   "execution_count": null,
   "id": "4794c37d-08e9-4a5b-a57e-ff6851a6e325",
   "metadata": {},
   "outputs": [],
   "source": []
  },
  {
   "cell_type": "code",
   "execution_count": null,
   "id": "b54ea294-717c-4bb4-ad32-0db0d9ab0ce9",
   "metadata": {},
   "outputs": [],
   "source": []
  }
 ],
 "metadata": {
  "kernelspec": {
   "display_name": "Python 3 (ipykernel)",
   "language": "python",
   "name": "python3"
  },
  "language_info": {
   "codemirror_mode": {
    "name": "ipython",
    "version": 3
   },
   "file_extension": ".py",
   "mimetype": "text/x-python",
   "name": "python",
   "nbconvert_exporter": "python",
   "pygments_lexer": "ipython3",
   "version": "3.9.12"
  }
 },
 "nbformat": 4,
 "nbformat_minor": 5
}
