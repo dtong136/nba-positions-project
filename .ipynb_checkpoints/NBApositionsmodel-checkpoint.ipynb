{
 "cells": [
  {
   "cell_type": "markdown",
   "id": "c756274e-5aae-40da-9833-f938a7081702",
   "metadata": {},
   "source": [
    "# NBA Position Modeling\n",
    "**Authors:** Dan Tong   **Student Pace:** FLEX"
   ]
  },
  {
   "cell_type": "markdown",
   "id": "b8793d43-8a58-4645-b0ed-1b33ffd9fe64",
   "metadata": {},
   "source": [
    "## Overview\n",
    "The goal of this project is to build models to help classify and identify NBA players as the primary position that they played. In today's NBA, positions are more fluid and the game is often described as \"position-less.\" I'd like to examine players from around 20 seasons ago and compare how positions have changed as the game has evolved and as rules have been added. One rule change around \"hand checking,\" which is a foul describing illegal contact from a player using their hands to impede an opponent's movement with the ball, was implemented in the 2004-2005 season. Through these model, I aim to provide recommendations to help teams build rosters based on positional needs and also attempt to showcase this trend in playstyle."
   ]
  },
  {
   "cell_type": "markdown",
   "id": "50a1d41d-3f22-4a00-aa5d-85c439aec504",
   "metadata": {},
   "source": [
    "Using these features, I will build a Log Model,  Decision Tree Classifier Model and then a Random Forest Classifier."
   ]
  },
  {
   "cell_type": "markdown",
   "id": "c8a15524-df78-4cd5-91b5-7834717fe7b6",
   "metadata": {
    "tags": []
   },
   "source": [
    "#### Dataset was created from CSV files from Basketball-Reference.com for the NBA seasons 1999-2004\n",
    "\n",
    "> * **TOV% (Turnover Rate):**             The percentage of a team's or player's possessions that end in a turnover\n",
    "> * **USG% (Usage Rate):**                An estimate of the percentage of team plays used by a player while he was on the floor\n",
    "> * **DBPM (Defensive Box Plus/Minus):**  An estimate of the per 100 possessions value of a player on defense\n",
    "> * **BPM (Box Plus/Minus):**             A rate stat about a player's value per 100 possessions played on both ends of the court. League average is defined as 0.0\n",
    "> * **3PA:**                              Three Point shots attempted per game\n",
    "> * **2P%:**                              Two Point Field Goal Percentage\n",
    "> * **FT%:**                              Free Throw Percentage\n",
    "> * **TRB:**                              Rebounds per game\n",
    "> * **AST:**                              Assists per game\n",
    "> * **STL:**                              Steals per game\n",
    "> * **BLK:**                              Blocks per game\n",
    "> * **TOV:**                              Turnovers per game\n",
    "> * **PF:**                               Personal Fouls per game\n",
    "> * **PTS:**                              Points per game\n",
    "\n",
    "I cleaned and created this dataframe from Basketball-Reference data. If you'd like to take a look at how I created it, you can check the \"NBApositionsEDA\" notebook. If you'd like to take a look at the original season stats, the CSV  files are located in the \"data\" folder."
   ]
  },
  {
   "cell_type": "code",
   "execution_count": 1,
   "id": "d0a81ada-6548-47ff-b835-b7e1cc7e5108",
   "metadata": {},
   "outputs": [],
   "source": [
    "#importing general libraries\n",
    "import pandas as pd\n",
    "import numpy as np\n",
    "import matplotlib.pyplot as plt\n",
    "%matplotlib inline\n",
    "import seaborn as sns\n",
    "\n",
    "import warnings\n",
    "warnings.filterwarnings('ignore')"
   ]
  },
  {
   "cell_type": "code",
   "execution_count": 2,
   "id": "62d6a709-b8f5-4cff-b762-5d7d0c7ab424",
   "metadata": {},
   "outputs": [
    {
     "data": {
      "text/html": [
       "<div>\n",
       "<style scoped>\n",
       "    .dataframe tbody tr th:only-of-type {\n",
       "        vertical-align: middle;\n",
       "    }\n",
       "\n",
       "    .dataframe tbody tr th {\n",
       "        vertical-align: top;\n",
       "    }\n",
       "\n",
       "    .dataframe thead th {\n",
       "        text-align: right;\n",
       "    }\n",
       "</style>\n",
       "<table border=\"1\" class=\"dataframe\">\n",
       "  <thead>\n",
       "    <tr style=\"text-align: right;\">\n",
       "      <th></th>\n",
       "      <th>TOV%</th>\n",
       "      <th>USG%</th>\n",
       "      <th>DBPM</th>\n",
       "      <th>BPM</th>\n",
       "      <th>Pos</th>\n",
       "      <th>3PA</th>\n",
       "      <th>2P%</th>\n",
       "      <th>FT%</th>\n",
       "      <th>TRB</th>\n",
       "      <th>AST</th>\n",
       "      <th>STL</th>\n",
       "      <th>BLK</th>\n",
       "      <th>TOV</th>\n",
       "      <th>PF</th>\n",
       "      <th>PTS</th>\n",
       "    </tr>\n",
       "  </thead>\n",
       "  <tbody>\n",
       "    <tr>\n",
       "      <th>0</th>\n",
       "      <td>12.7</td>\n",
       "      <td>22.5</td>\n",
       "      <td>-0.1</td>\n",
       "      <td>-1.2</td>\n",
       "      <td>SG</td>\n",
       "      <td>0.4</td>\n",
       "      <td>0.435</td>\n",
       "      <td>0.756</td>\n",
       "      <td>4.8</td>\n",
       "      <td>1.6</td>\n",
       "      <td>1.0</td>\n",
       "      <td>0.5</td>\n",
       "      <td>1.7</td>\n",
       "      <td>2.4</td>\n",
       "      <td>11.4</td>\n",
       "    </tr>\n",
       "    <tr>\n",
       "      <th>1</th>\n",
       "      <td>14.1</td>\n",
       "      <td>25.0</td>\n",
       "      <td>-0.4</td>\n",
       "      <td>2.2</td>\n",
       "      <td>SF</td>\n",
       "      <td>1.2</td>\n",
       "      <td>0.478</td>\n",
       "      <td>0.809</td>\n",
       "      <td>10.1</td>\n",
       "      <td>3.3</td>\n",
       "      <td>1.1</td>\n",
       "      <td>1.1</td>\n",
       "      <td>3.0</td>\n",
       "      <td>3.0</td>\n",
       "      <td>20.3</td>\n",
       "    </tr>\n",
       "    <tr>\n",
       "      <th>2</th>\n",
       "      <td>10.3</td>\n",
       "      <td>25.6</td>\n",
       "      <td>-1.1</td>\n",
       "      <td>3.6</td>\n",
       "      <td>SG</td>\n",
       "      <td>5.0</td>\n",
       "      <td>0.468</td>\n",
       "      <td>0.887</td>\n",
       "      <td>4.4</td>\n",
       "      <td>3.8</td>\n",
       "      <td>1.3</td>\n",
       "      <td>0.2</td>\n",
       "      <td>2.2</td>\n",
       "      <td>2.3</td>\n",
       "      <td>22.1</td>\n",
       "    </tr>\n",
       "    <tr>\n",
       "      <th>3</th>\n",
       "      <td>14.4</td>\n",
       "      <td>24.1</td>\n",
       "      <td>-0.8</td>\n",
       "      <td>-2.5</td>\n",
       "      <td>C</td>\n",
       "      <td>0.1</td>\n",
       "      <td>0.439</td>\n",
       "      <td>0.766</td>\n",
       "      <td>3.3</td>\n",
       "      <td>1.2</td>\n",
       "      <td>0.4</td>\n",
       "      <td>0.5</td>\n",
       "      <td>1.7</td>\n",
       "      <td>2.0</td>\n",
       "      <td>10.5</td>\n",
       "    </tr>\n",
       "    <tr>\n",
       "      <th>4</th>\n",
       "      <td>14.4</td>\n",
       "      <td>23.4</td>\n",
       "      <td>-1.2</td>\n",
       "      <td>-0.1</td>\n",
       "      <td>SG</td>\n",
       "      <td>2.8</td>\n",
       "      <td>0.472</td>\n",
       "      <td>0.877</td>\n",
       "      <td>4.0</td>\n",
       "      <td>3.4</td>\n",
       "      <td>1.4</td>\n",
       "      <td>0.2</td>\n",
       "      <td>2.6</td>\n",
       "      <td>2.3</td>\n",
       "      <td>16.9</td>\n",
       "    </tr>\n",
       "  </tbody>\n",
       "</table>\n",
       "</div>"
      ],
      "text/plain": [
       "   TOV%  USG%  DBPM  BPM Pos  3PA    2P%    FT%   TRB  AST  STL  BLK  TOV  \\\n",
       "0  12.7  22.5  -0.1 -1.2  SG  0.4  0.435  0.756   4.8  1.6  1.0  0.5  1.7   \n",
       "1  14.1  25.0  -0.4  2.2  SF  1.2  0.478  0.809  10.1  3.3  1.1  1.1  3.0   \n",
       "2  10.3  25.6  -1.1  3.6  SG  5.0  0.468  0.887   4.4  3.8  1.3  0.2  2.2   \n",
       "3  14.4  24.1  -0.8 -2.5   C  0.1  0.439  0.766   3.3  1.2  0.4  0.5  1.7   \n",
       "4  14.4  23.4  -1.2 -0.1  SG  2.8  0.472  0.877   4.0  3.4  1.4  0.2  2.6   \n",
       "\n",
       "    PF   PTS  \n",
       "0  2.4  11.4  \n",
       "1  3.0  20.3  \n",
       "2  2.3  22.1  \n",
       "3  2.0  10.5  \n",
       "4  2.3  16.9  "
      ]
     },
     "execution_count": 2,
     "metadata": {},
     "output_type": "execute_result"
    }
   ],
   "source": [
    "#import my created dataframe of player stats from the 2000, 2001, 2002 NBA seasons\n",
    "df = pd.read_csv('data/dataframe_2000s.csv')\n",
    "df = df.drop('Player', axis=1)\n",
    "df.head()"
   ]
  },
  {
   "cell_type": "code",
   "execution_count": 4,
   "id": "ad889081-06dc-41b9-bb83-62e661f96bed",
   "metadata": {},
   "outputs": [
    {
     "name": "stdout",
     "output_type": "stream",
     "text": [
      "<class 'pandas.core.frame.DataFrame'>\n",
      "RangeIndex: 1227 entries, 0 to 1226\n",
      "Data columns (total 15 columns):\n",
      " #   Column  Non-Null Count  Dtype  \n",
      "---  ------  --------------  -----  \n",
      " 0   TOV%    1227 non-null   float64\n",
      " 1   USG%    1227 non-null   float64\n",
      " 2   DBPM    1227 non-null   float64\n",
      " 3   BPM     1227 non-null   float64\n",
      " 4   Pos     1227 non-null   object \n",
      " 5   3PA     1227 non-null   float64\n",
      " 6   2P%     1227 non-null   float64\n",
      " 7   FT%     1227 non-null   float64\n",
      " 8   TRB     1227 non-null   float64\n",
      " 9   AST     1227 non-null   float64\n",
      " 10  STL     1227 non-null   float64\n",
      " 11  BLK     1227 non-null   float64\n",
      " 12  TOV     1227 non-null   float64\n",
      " 13  PF      1227 non-null   float64\n",
      " 14  PTS     1227 non-null   float64\n",
      "dtypes: float64(14), object(1)\n",
      "memory usage: 143.9+ KB\n",
      "None\n"
     ]
    },
    {
     "data": {
      "text/html": [
       "<div>\n",
       "<style scoped>\n",
       "    .dataframe tbody tr th:only-of-type {\n",
       "        vertical-align: middle;\n",
       "    }\n",
       "\n",
       "    .dataframe tbody tr th {\n",
       "        vertical-align: top;\n",
       "    }\n",
       "\n",
       "    .dataframe thead th {\n",
       "        text-align: right;\n",
       "    }\n",
       "</style>\n",
       "<table border=\"1\" class=\"dataframe\">\n",
       "  <thead>\n",
       "    <tr style=\"text-align: right;\">\n",
       "      <th></th>\n",
       "      <th>TOV%</th>\n",
       "      <th>USG%</th>\n",
       "      <th>DBPM</th>\n",
       "      <th>BPM</th>\n",
       "      <th>3PA</th>\n",
       "      <th>2P%</th>\n",
       "      <th>FT%</th>\n",
       "      <th>TRB</th>\n",
       "      <th>AST</th>\n",
       "      <th>STL</th>\n",
       "      <th>BLK</th>\n",
       "      <th>TOV</th>\n",
       "      <th>PF</th>\n",
       "      <th>PTS</th>\n",
       "    </tr>\n",
       "  </thead>\n",
       "  <tbody>\n",
       "    <tr>\n",
       "      <th>count</th>\n",
       "      <td>1227.000000</td>\n",
       "      <td>1227.000000</td>\n",
       "      <td>1227.000000</td>\n",
       "      <td>1227.000000</td>\n",
       "      <td>1227.000000</td>\n",
       "      <td>1227.000000</td>\n",
       "      <td>1227.000000</td>\n",
       "      <td>1227.000000</td>\n",
       "      <td>1227.000000</td>\n",
       "      <td>1227.000000</td>\n",
       "      <td>1227.000000</td>\n",
       "      <td>1227.000000</td>\n",
       "      <td>1227.000000</td>\n",
       "      <td>1227.000000</td>\n",
       "    </tr>\n",
       "    <tr>\n",
       "      <th>mean</th>\n",
       "      <td>13.635371</td>\n",
       "      <td>19.587857</td>\n",
       "      <td>0.040587</td>\n",
       "      <td>-0.006275</td>\n",
       "      <td>1.689487</td>\n",
       "      <td>0.465604</td>\n",
       "      <td>0.748712</td>\n",
       "      <td>4.882478</td>\n",
       "      <td>2.596740</td>\n",
       "      <td>0.912551</td>\n",
       "      <td>0.600326</td>\n",
       "      <td>1.642624</td>\n",
       "      <td>2.405868</td>\n",
       "      <td>11.350204</td>\n",
       "    </tr>\n",
       "    <tr>\n",
       "      <th>std</th>\n",
       "      <td>3.461231</td>\n",
       "      <td>4.932719</td>\n",
       "      <td>1.101963</td>\n",
       "      <td>2.579651</td>\n",
       "      <td>1.710879</td>\n",
       "      <td>0.040932</td>\n",
       "      <td>0.098321</td>\n",
       "      <td>2.411679</td>\n",
       "      <td>1.981128</td>\n",
       "      <td>0.443465</td>\n",
       "      <td>0.609616</td>\n",
       "      <td>0.725048</td>\n",
       "      <td>0.627092</td>\n",
       "      <td>5.598998</td>\n",
       "    </tr>\n",
       "    <tr>\n",
       "      <th>min</th>\n",
       "      <td>6.300000</td>\n",
       "      <td>6.500000</td>\n",
       "      <td>-2.800000</td>\n",
       "      <td>-6.900000</td>\n",
       "      <td>0.000000</td>\n",
       "      <td>0.348000</td>\n",
       "      <td>0.262000</td>\n",
       "      <td>1.000000</td>\n",
       "      <td>0.200000</td>\n",
       "      <td>0.200000</td>\n",
       "      <td>0.000000</td>\n",
       "      <td>0.400000</td>\n",
       "      <td>0.800000</td>\n",
       "      <td>2.400000</td>\n",
       "    </tr>\n",
       "    <tr>\n",
       "      <th>25%</th>\n",
       "      <td>11.200000</td>\n",
       "      <td>16.100000</td>\n",
       "      <td>-0.800000</td>\n",
       "      <td>-1.700000</td>\n",
       "      <td>0.100000</td>\n",
       "      <td>0.438000</td>\n",
       "      <td>0.698000</td>\n",
       "      <td>3.100000</td>\n",
       "      <td>1.100000</td>\n",
       "      <td>0.600000</td>\n",
       "      <td>0.200000</td>\n",
       "      <td>1.100000</td>\n",
       "      <td>2.000000</td>\n",
       "      <td>7.100000</td>\n",
       "    </tr>\n",
       "    <tr>\n",
       "      <th>50%</th>\n",
       "      <td>13.200000</td>\n",
       "      <td>19.300000</td>\n",
       "      <td>0.000000</td>\n",
       "      <td>-0.100000</td>\n",
       "      <td>1.200000</td>\n",
       "      <td>0.464000</td>\n",
       "      <td>0.765000</td>\n",
       "      <td>4.300000</td>\n",
       "      <td>2.000000</td>\n",
       "      <td>0.800000</td>\n",
       "      <td>0.400000</td>\n",
       "      <td>1.500000</td>\n",
       "      <td>2.400000</td>\n",
       "      <td>9.900000</td>\n",
       "    </tr>\n",
       "    <tr>\n",
       "      <th>75%</th>\n",
       "      <td>15.700000</td>\n",
       "      <td>22.600000</td>\n",
       "      <td>0.800000</td>\n",
       "      <td>1.500000</td>\n",
       "      <td>3.000000</td>\n",
       "      <td>0.493000</td>\n",
       "      <td>0.817000</td>\n",
       "      <td>6.200000</td>\n",
       "      <td>3.500000</td>\n",
       "      <td>1.100000</td>\n",
       "      <td>0.800000</td>\n",
       "      <td>2.100000</td>\n",
       "      <td>2.800000</td>\n",
       "      <td>14.200000</td>\n",
       "    </tr>\n",
       "    <tr>\n",
       "      <th>max</th>\n",
       "      <td>29.900000</td>\n",
       "      <td>37.800000</td>\n",
       "      <td>3.600000</td>\n",
       "      <td>9.300000</td>\n",
       "      <td>8.000000</td>\n",
       "      <td>0.615000</td>\n",
       "      <td>0.950000</td>\n",
       "      <td>14.100000</td>\n",
       "      <td>10.900000</td>\n",
       "      <td>2.800000</td>\n",
       "      <td>3.700000</td>\n",
       "      <td>4.100000</td>\n",
       "      <td>4.500000</td>\n",
       "      <td>31.400000</td>\n",
       "    </tr>\n",
       "  </tbody>\n",
       "</table>\n",
       "</div>"
      ],
      "text/plain": [
       "              TOV%         USG%         DBPM          BPM          3PA  \\\n",
       "count  1227.000000  1227.000000  1227.000000  1227.000000  1227.000000   \n",
       "mean     13.635371    19.587857     0.040587    -0.006275     1.689487   \n",
       "std       3.461231     4.932719     1.101963     2.579651     1.710879   \n",
       "min       6.300000     6.500000    -2.800000    -6.900000     0.000000   \n",
       "25%      11.200000    16.100000    -0.800000    -1.700000     0.100000   \n",
       "50%      13.200000    19.300000     0.000000    -0.100000     1.200000   \n",
       "75%      15.700000    22.600000     0.800000     1.500000     3.000000   \n",
       "max      29.900000    37.800000     3.600000     9.300000     8.000000   \n",
       "\n",
       "               2P%          FT%          TRB          AST          STL  \\\n",
       "count  1227.000000  1227.000000  1227.000000  1227.000000  1227.000000   \n",
       "mean      0.465604     0.748712     4.882478     2.596740     0.912551   \n",
       "std       0.040932     0.098321     2.411679     1.981128     0.443465   \n",
       "min       0.348000     0.262000     1.000000     0.200000     0.200000   \n",
       "25%       0.438000     0.698000     3.100000     1.100000     0.600000   \n",
       "50%       0.464000     0.765000     4.300000     2.000000     0.800000   \n",
       "75%       0.493000     0.817000     6.200000     3.500000     1.100000   \n",
       "max       0.615000     0.950000    14.100000    10.900000     2.800000   \n",
       "\n",
       "               BLK          TOV           PF          PTS  \n",
       "count  1227.000000  1227.000000  1227.000000  1227.000000  \n",
       "mean      0.600326     1.642624     2.405868    11.350204  \n",
       "std       0.609616     0.725048     0.627092     5.598998  \n",
       "min       0.000000     0.400000     0.800000     2.400000  \n",
       "25%       0.200000     1.100000     2.000000     7.100000  \n",
       "50%       0.400000     1.500000     2.400000     9.900000  \n",
       "75%       0.800000     2.100000     2.800000    14.200000  \n",
       "max       3.700000     4.100000     4.500000    31.400000  "
      ]
     },
     "execution_count": 4,
     "metadata": {},
     "output_type": "execute_result"
    }
   ],
   "source": [
    "print(df.info())\n",
    "df.describe()"
   ]
  },
  {
   "cell_type": "code",
   "execution_count": null,
   "id": "1938a7bf-3895-4af8-ab8c-0b12423f17b7",
   "metadata": {},
   "outputs": [],
   "source": []
  },
  {
   "cell_type": "code",
   "execution_count": null,
   "id": "5a6cf3e7-1cef-4144-a42a-dd84a7960c62",
   "metadata": {},
   "outputs": [],
   "source": []
  },
  {
   "cell_type": "markdown",
   "id": "c844b78b-9f4c-470e-b29a-5ae0064e0d31",
   "metadata": {},
   "source": [
    "### Baseline Model - Decision Tree"
   ]
  },
  {
   "cell_type": "code",
   "execution_count": 5,
   "id": "f95831d9-c543-4802-bd40-cd8e52074e50",
   "metadata": {},
   "outputs": [],
   "source": [
    "#importing train_test_split\n",
    "from sklearn.model_selection import train_test_split\n",
    "\n",
    "#splitting data into training and testing sets\n",
    "y = df['Pos']\n",
    "X = df.drop(columns=['Pos'])\n",
    "\n",
    "X_train, X_test, y_train, y_test = train_test_split(X, y, random_state=42)"
   ]
  },
  {
   "cell_type": "code",
   "execution_count": 15,
   "id": "7a9a9b33-d177-4adb-a87e-2a2423b618a2",
   "metadata": {},
   "outputs": [],
   "source": [
    "#fit baseline Decision Tree Classifier\n",
    "from sklearn.tree import DecisionTreeClassifier\n",
    "\n",
    "dtc = DecisionTreeClassifier(criterion='entropy')\n",
    "\n",
    "#fit Decision Tree Classifier\n",
    "dtc = dtc.fit(X_train, y_train)\n",
    "\n",
    "#predict data\n",
    "y_pred = dtc.predict(X_test)"
   ]
  },
  {
   "cell_type": "code",
   "execution_count": 16,
   "id": "30aac97a-a54e-4ba1-b3d2-238a5691fa45",
   "metadata": {},
   "outputs": [
    {
     "name": "stdout",
     "output_type": "stream",
     "text": [
      "Test Accuracy:  0.8143322475570033\n"
     ]
    }
   ],
   "source": [
    "#import accuracy\n",
    "from sklearn.metrics import accuracy_score\n",
    "\n",
    "print(\"Test Accuracy: \", accuracy_score(y_test, y_pred))"
   ]
  },
  {
   "cell_type": "code",
   "execution_count": null,
   "id": "6c346e57-0f80-4e65-b45a-df90d5546f7e",
   "metadata": {},
   "outputs": [],
   "source": []
  },
  {
   "cell_type": "code",
   "execution_count": 59,
   "id": "84181312-3e77-49e5-a524-8908a769c9fd",
   "metadata": {},
   "outputs": [
    {
     "data": {
      "text/plain": [
       "0.7373454212796389"
      ]
     },
     "execution_count": 59,
     "metadata": {},
     "output_type": "execute_result"
    }
   ],
   "source": [
    "#import\n",
    "from sklearn.linear_model import LogisticRegression\n",
    "from sklearn.model_selection import cross_val_score\n",
    "\n",
    "log_baseline = LogisticRegression(random_state=42)\n",
    "\n",
    "log_loss = -cross_val_score(log_baseline, X_train, y_train, scoring='neg_log_loss').mean()\n",
    "log_loss"
   ]
  },
  {
   "cell_type": "code",
   "execution_count": null,
   "id": "c41f4421-d23f-4c11-8234-b1bc267ad0ad",
   "metadata": {},
   "outputs": [],
   "source": []
  },
  {
   "cell_type": "code",
   "execution_count": null,
   "id": "efe7b200-4f98-4893-8f24-31f6855d3aba",
   "metadata": {},
   "outputs": [],
   "source": []
  },
  {
   "cell_type": "code",
   "execution_count": 14,
   "id": "765136be-8def-4783-b05f-6b71c5f8ec0a",
   "metadata": {},
   "outputs": [],
   "source": [
    "#importing scaler to scale the data\n",
    "from sklearn.preprocessing import StandardScaler\n",
    "\n",
    "scaler = StandardScaler()\n",
    "scaler.fit(X_train)\n",
    "\n",
    "X_train_scaled = scaler.transform(X_train)\n",
    "X_test_scaled = scaler.transform(X_test)"
   ]
  },
  {
   "cell_type": "code",
   "execution_count": 56,
   "id": "63d5870e-c6b5-4c96-b438-d7e14307338f",
   "metadata": {},
   "outputs": [
    {
     "data": {
      "text/plain": [
       "2.7367702002501035"
      ]
     },
     "execution_count": 56,
     "metadata": {},
     "output_type": "execute_result"
    }
   ],
   "source": [
    "#imports\n",
    "from sklearn.neighbors import KNeighborsClassifier\n",
    "\n",
    "#creating the model\n",
    "knn_baseline = KNeighborsClassifier()\n",
    "\n",
    "#performing cross-validation\n",
    "knn_baseline_log_loss = -cross_val_score(knn_baseline, X_train_scaled, y_train, scoring='neg_log_loss').mean()\n",
    "knn_baseline_log_loss"
   ]
  },
  {
   "cell_type": "code",
   "execution_count": 41,
   "id": "1b93bdcc-c208-41c9-b172-20803bcc617f",
   "metadata": {},
   "outputs": [
    {
     "name": "stdout",
     "output_type": "stream",
     "text": [
      "second model:  1.0502499072255573\n",
      "third model:  1.0009815805075406\n",
      "third model:  0.9705867738307254\n"
     ]
    }
   ],
   "source": [
    "#second model\n",
    "knn_second_model = KNeighborsClassifier(n_neighbors=100)\n",
    "\n",
    "knn_second_log_loss = -cross_val_score(knn_second_model, X_train_scaled, y_train, scoring='neg_log_loss').mean()\n",
    "print('second model: ', knn_second_log_loss)\n",
    "\n",
    "#third model\n",
    "knn_third_model = KNeighborsClassifier(n_neighbors=25)\n",
    "\n",
    "knn_third_log_loss = -cross_val_score(knn_third_model, X_train_scaled, y_train, scoring='neg_log_loss').mean()\n",
    "print('third model: ', knn_third_log_loss)\n",
    "\n",
    "#fourth model\n",
    "knn_fourth_model = KNeighborsClassifier(n_neighbors=50)\n",
    "\n",
    "knn_fourth_log_loss = -cross_val_score(knn_fourth_model, X_train_scaled, y_train, scoring='neg_log_loss').mean()\n",
    "print('third model: ', knn_fourth_log_loss)"
   ]
  },
  {
   "cell_type": "code",
   "execution_count": null,
   "id": "9b0c0fb0-5f46-429b-9a1d-fa6bbc223c02",
   "metadata": {},
   "outputs": [],
   "source": []
  },
  {
   "cell_type": "code",
   "execution_count": 43,
   "id": "6f1fce0c-882b-44e1-95db-d54381563a25",
   "metadata": {},
   "outputs": [
    {
     "data": {
      "text/plain": [
       "6.795128834216129"
      ]
     },
     "execution_count": 43,
     "metadata": {},
     "output_type": "execute_result"
    }
   ],
   "source": [
    "#import Decision Tree\n",
    "from sklearn.tree import DecisionTreeClassifier\n",
    "\n",
    "dtc_baseline = DecisionTreeClassifier(random_state=42)\n",
    "\n",
    "dtc_baseline_log_loss = -cross_val_score(dtc_baseline, X_train, y_train, scoring='neg_log_loss').mean()\n",
    "dtc_baseline_log_loss"
   ]
  },
  {
   "cell_type": "code",
   "execution_count": null,
   "id": "9bf71282-5945-4f90-b13f-370810f9216e",
   "metadata": {},
   "outputs": [],
   "source": []
  },
  {
   "cell_type": "code",
   "execution_count": null,
   "id": "0608c85c-85f0-45b0-8c47-fda481d88336",
   "metadata": {},
   "outputs": [],
   "source": []
  },
  {
   "cell_type": "code",
   "execution_count": null,
   "id": "c438de3f-4047-47d1-9521-e96098deed0a",
   "metadata": {},
   "outputs": [],
   "source": []
  },
  {
   "cell_type": "code",
   "execution_count": null,
   "id": "4baa2bd6-07f9-46e7-93da-3f26ef67e9ee",
   "metadata": {},
   "outputs": [],
   "source": []
  },
  {
   "cell_type": "code",
   "execution_count": null,
   "id": "e527afa8-433a-423e-9b16-ee5a60a8e519",
   "metadata": {},
   "outputs": [],
   "source": []
  },
  {
   "cell_type": "code",
   "execution_count": null,
   "id": "d0144f1d-d7ad-45af-9e52-0ab279958a14",
   "metadata": {},
   "outputs": [],
   "source": []
  },
  {
   "cell_type": "code",
   "execution_count": null,
   "id": "b29db783-8c9e-4fc3-8084-35a24404f45a",
   "metadata": {},
   "outputs": [],
   "source": []
  },
  {
   "cell_type": "code",
   "execution_count": null,
   "id": "4794c37d-08e9-4a5b-a57e-ff6851a6e325",
   "metadata": {},
   "outputs": [],
   "source": []
  },
  {
   "cell_type": "code",
   "execution_count": null,
   "id": "b54ea294-717c-4bb4-ad32-0db0d9ab0ce9",
   "metadata": {},
   "outputs": [],
   "source": []
  },
  {
   "cell_type": "code",
   "execution_count": null,
   "id": "0ca6c1ea-e02b-4945-8143-fb054c7785f7",
   "metadata": {},
   "outputs": [],
   "source": []
  },
  {
   "cell_type": "code",
   "execution_count": null,
   "id": "7bd5a6e0-97d3-4b15-95bd-1bf78d97e7e1",
   "metadata": {},
   "outputs": [],
   "source": []
  }
 ],
 "metadata": {
  "kernelspec": {
   "display_name": "Python 3 (ipykernel)",
   "language": "python",
   "name": "python3"
  },
  "language_info": {
   "codemirror_mode": {
    "name": "ipython",
    "version": 3
   },
   "file_extension": ".py",
   "mimetype": "text/x-python",
   "name": "python",
   "nbconvert_exporter": "python",
   "pygments_lexer": "ipython3",
   "version": "3.9.12"
  }
 },
 "nbformat": 4,
 "nbformat_minor": 5
}
